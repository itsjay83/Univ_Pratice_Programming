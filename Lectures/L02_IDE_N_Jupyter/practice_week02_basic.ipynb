{
  "cells": [
    {
      "cell_type": "markdown",
      "metadata": {
        "colab_type": "text",
        "id": "view-in-github"
      },
      "source": [
        "<a href=\"https://colab.research.google.com/gist/dsaint31x/1f12d51e910bf43561bb52155776c86c/practice_week02_basic.ipynb\" target=\"_parent\"><img src=\"https://colab.research.google.com/assets/colab-badge.svg\" alt=\"Open In Colab\"/></a>"
      ]
    },
    {
      "cell_type": "markdown",
      "id": "501e34ca",
      "metadata": {
        "id": "501e34ca"
      },
      "source": [
        "## Expression\n",
        "\n",
        "참고: [Expression vs. Statement](https://dsaint31.tistory.com/514)"
      ]
    },
    {
      "cell_type": "code",
      "execution_count": 1,
      "id": "e30f924d",
      "metadata": {
        "id": "e30f924d"
      },
      "outputs": [
        {
          "data": {
            "text/plain": [
              "6"
            ]
          },
          "execution_count": 1,
          "metadata": {},
          "output_type": "execute_result"
        }
      ],
      "source": [
        "2+4"
      ]
    },
    {
      "cell_type": "code",
      "execution_count": 2,
      "id": "96124a5a",
      "metadata": {
        "id": "96124a5a"
      },
      "outputs": [
        {
          "data": {
            "text/plain": [
              "1"
            ]
          },
          "execution_count": 2,
          "metadata": {},
          "output_type": "execute_result"
        }
      ],
      "source": [
        "1 ## edit mode"
      ]
    },
    {
      "cell_type": "markdown",
      "id": "a4f5bd64",
      "metadata": {
        "id": "a4f5bd64"
      },
      "source": [
        "## Statement\n",
        "\n",
        "참고: [Expression vs. Statement](https://dsaint31.tistory.com/514)"
      ]
    },
    {
      "cell_type": "code",
      "execution_count": 3,
      "id": "80b80371",
      "metadata": {
        "id": "80b80371"
      },
      "outputs": [],
      "source": [
        "a = 7"
      ]
    },
    {
      "cell_type": "markdown",
      "id": "3d78513d",
      "metadata": {
        "id": "3d78513d"
      },
      "source": [
        "statement는 output cell이 안 나올 수도 있음."
      ]
    },
    {
      "cell_type": "markdown",
      "id": "4a91f56c",
      "metadata": {
        "id": "4a91f56c"
      },
      "source": [
        "### math operations\n",
        "\n",
        "참고: [Arithmetics in Python](https://dsaint31.tistory.com/516)"
      ]
    },
    {
      "cell_type": "code",
      "execution_count": 4,
      "id": "75b054b8",
      "metadata": {
        "id": "75b054b8"
      },
      "outputs": [
        {
          "data": {
            "text/plain": [
              "16"
            ]
          },
          "execution_count": 4,
          "metadata": {},
          "output_type": "execute_result"
        }
      ],
      "source": [
        "2**4"
      ]
    },
    {
      "cell_type": "markdown",
      "id": "b207f4c3",
      "metadata": {
        "id": "b207f4c3"
      },
      "source": [
        "$$a \\% b = a - ( a // b) * b$$"
      ]
    },
    {
      "cell_type": "code",
      "execution_count": 5,
      "id": "a6f0be8c",
      "metadata": {
        "id": "a6f0be8c"
      },
      "outputs": [
        {
          "data": {
            "text/plain": [
              "6"
            ]
          },
          "execution_count": 5,
          "metadata": {},
          "output_type": "execute_result"
        }
      ],
      "source": [
        "22 % 8"
      ]
    },
    {
      "cell_type": "code",
      "execution_count": 6,
      "id": "24c65bd7",
      "metadata": {
        "id": "24c65bd7"
      },
      "outputs": [
        {
          "data": {
            "text/plain": [
              "2"
            ]
          },
          "execution_count": 6,
          "metadata": {},
          "output_type": "execute_result"
        }
      ],
      "source": [
        "22 // 8"
      ]
    },
    {
      "cell_type": "code",
      "execution_count": 7,
      "id": "437083c2",
      "metadata": {
        "id": "437083c2"
      },
      "outputs": [
        {
          "data": {
            "text/plain": [
              "2.75"
            ]
          },
          "execution_count": 7,
          "metadata": {},
          "output_type": "execute_result"
        }
      ],
      "source": [
        "22 / 8"
      ]
    },
    {
      "cell_type": "code",
      "execution_count": 8,
      "id": "a8785c61",
      "metadata": {
        "id": "a8785c61"
      },
      "outputs": [
        {
          "data": {
            "text/plain": [
              "15"
            ]
          },
          "execution_count": 8,
          "metadata": {},
          "output_type": "execute_result"
        }
      ],
      "source": [
        "3 * 5"
      ]
    },
    {
      "cell_type": "code",
      "execution_count": 9,
      "id": "6a739e08",
      "metadata": {
        "id": "6a739e08"
      },
      "outputs": [
        {
          "data": {
            "text/plain": [
              "3"
            ]
          },
          "execution_count": 9,
          "metadata": {},
          "output_type": "execute_result"
        }
      ],
      "source": [
        "5 - 2"
      ]
    },
    {
      "cell_type": "code",
      "execution_count": 10,
      "id": "81c2ff90",
      "metadata": {
        "id": "81c2ff90"
      },
      "outputs": [
        {
          "data": {
            "text/plain": [
              "5"
            ]
          },
          "execution_count": 10,
          "metadata": {},
          "output_type": "execute_result"
        }
      ],
      "source": [
        "3 + 2"
      ]
    },
    {
      "cell_type": "markdown",
      "id": "64178725",
      "metadata": {
        "id": "64178725"
      },
      "source": [
        "## Data Type: Integer, Float, String, Boolean\n",
        "\n",
        "참고: [Data Type](https://dsaint31.tistory.com/515)"
      ]
    },
    {
      "cell_type": "code",
      "execution_count": 11,
      "id": "e825bee3",
      "metadata": {
        "id": "e825bee3"
      },
      "outputs": [
        {
          "data": {
            "text/plain": [
              "1"
            ]
          },
          "execution_count": 11,
          "metadata": {},
          "output_type": "execute_result"
        }
      ],
      "source": [
        "a = 1 # int\n",
        "a"
      ]
    },
    {
      "cell_type": "code",
      "execution_count": 12,
      "id": "3308bda5",
      "metadata": {
        "id": "3308bda5"
      },
      "outputs": [
        {
          "data": {
            "text/plain": [
              "1.0"
            ]
          },
          "execution_count": 12,
          "metadata": {},
          "output_type": "execute_result"
        }
      ],
      "source": [
        "a = 1. #float\n",
        "a"
      ]
    },
    {
      "cell_type": "code",
      "execution_count": 13,
      "id": "5e3380ee",
      "metadata": {
        "id": "5e3380ee"
      },
      "outputs": [
        {
          "data": {
            "text/plain": [
              "'text'"
            ]
          },
          "execution_count": 13,
          "metadata": {},
          "output_type": "execute_result"
        }
      ],
      "source": [
        "a = \"text\" # string\n",
        "a"
      ]
    },
    {
      "cell_type": "code",
      "execution_count": 14,
      "id": "9613f9b7",
      "metadata": {
        "id": "9613f9b7"
      },
      "outputs": [
        {
          "data": {
            "text/plain": [
              "'Hello, world'"
            ]
          },
          "execution_count": 14,
          "metadata": {},
          "output_type": "execute_result"
        }
      ],
      "source": [
        "'Hello, world'"
      ]
    },
    {
      "cell_type": "code",
      "execution_count": 15,
      "id": "2278843e",
      "metadata": {
        "id": "2278843e"
      },
      "outputs": [
        {
          "data": {
            "text/plain": [
              "'Hello, world'"
            ]
          },
          "execution_count": 15,
          "metadata": {},
          "output_type": "execute_result"
        }
      ],
      "source": [
        "\"Hello, world\""
      ]
    },
    {
      "cell_type": "code",
      "execution_count": 16,
      "id": "0f7664da",
      "metadata": {
        "id": "0f7664da"
      },
      "outputs": [
        {
          "data": {
            "text/plain": [
              "'Hello, world\\ntest'"
            ]
          },
          "execution_count": 16,
          "metadata": {},
          "output_type": "execute_result"
        }
      ],
      "source": [
        "\"\"\"Hello, world\n",
        "test\"\"\""
      ]
    },
    {
      "cell_type": "markdown",
      "id": "ae3f5d68",
      "metadata": {
        "id": "ae3f5d68"
      },
      "source": [
        "## concatenation and repetition\n",
        "\n",
        "참고: [str's concatenation and repetition](https://dsaint31.tistory.com/547#Concatenation-1-1)"
      ]
    },
    {
      "cell_type": "code",
      "execution_count": 17,
      "id": "da2cdd82",
      "metadata": {
        "id": "da2cdd82"
      },
      "outputs": [
        {
          "data": {
            "text/plain": [
              "'김행근'"
            ]
          },
          "execution_count": 17,
          "metadata": {},
          "output_type": "execute_result"
        }
      ],
      "source": [
        "\"김\" + \"행근\""
      ]
    },
    {
      "cell_type": "code",
      "execution_count": 18,
      "id": "a551d36a",
      "metadata": {
        "id": "a551d36a"
      },
      "outputs": [
        {
          "data": {
            "text/plain": [
              "'====='"
            ]
          },
          "execution_count": 18,
          "metadata": {},
          "output_type": "execute_result"
        }
      ],
      "source": [
        "\"=\"*5"
      ]
    },
    {
      "cell_type": "code",
      "execution_count": 19,
      "id": "592da90c",
      "metadata": {
        "id": "592da90c",
        "outputId": "497b8504-f127-4c58-fb87-6e39c25eeccb"
      },
      "outputs": [
        {
          "data": {
            "text/plain": [
              "True"
            ]
          },
          "execution_count": 19,
          "metadata": {},
          "output_type": "execute_result"
        }
      ],
      "source": [
        "a = True\n",
        "a"
      ]
    },
    {
      "cell_type": "code",
      "execution_count": 20,
      "id": "c1565a90",
      "metadata": {
        "id": "c1565a90",
        "outputId": "8cdee2eb-cba7-4bca-f0b2-37424d8d8b18"
      },
      "outputs": [
        {
          "ename": "NameError",
          "evalue": "name 'true' is not defined",
          "output_type": "error",
          "traceback": [
            "\u001b[31m---------------------------------------------------------------------------\u001b[39m",
            "\u001b[31mNameError\u001b[39m                                 Traceback (most recent call last)",
            "\u001b[36mCell\u001b[39m\u001b[36m \u001b[39m\u001b[32mIn[20]\u001b[39m\u001b[32m, line 1\u001b[39m\n\u001b[32m----> \u001b[39m\u001b[32m1\u001b[39m \u001b[43mtrue\u001b[49m\n",
            "\u001b[31mNameError\u001b[39m: name 'true' is not defined"
          ]
        }
      ],
      "source": [
        "true"
      ]
    },
    {
      "cell_type": "code",
      "execution_count": null,
      "id": "64cc144f",
      "metadata": {
        "id": "64cc144f",
        "outputId": "f1bff9b4-6f23-4410-9585-29f09d7dbd8d"
      },
      "outputs": [
        {
          "data": {
            "text/plain": [
              "False"
            ]
          },
          "execution_count": 10,
          "metadata": {},
          "output_type": "execute_result"
        }
      ],
      "source": [
        "# comparison op.\n",
        "1 == 2"
      ]
    },
    {
      "cell_type": "code",
      "execution_count": null,
      "id": "63da27fc",
      "metadata": {
        "id": "63da27fc",
        "outputId": "a85830d1-c873-440d-d282-ca1ece16a388"
      },
      "outputs": [
        {
          "data": {
            "text/plain": [
              "True"
            ]
          },
          "execution_count": 11,
          "metadata": {},
          "output_type": "execute_result"
        }
      ],
      "source": [
        "1 != 2"
      ]
    },
    {
      "cell_type": "code",
      "execution_count": null,
      "id": "255776fb",
      "metadata": {
        "id": "255776fb",
        "outputId": "a0a6933f-69a2-40aa-9be8-27454a62c239"
      },
      "outputs": [
        {
          "data": {
            "text/plain": [
              "True"
            ]
          },
          "execution_count": 12,
          "metadata": {},
          "output_type": "execute_result"
        }
      ],
      "source": [
        "\"TEST\" == \"TEST\""
      ]
    },
    {
      "cell_type": "code",
      "execution_count": null,
      "id": "07f7c4fb",
      "metadata": {
        "id": "07f7c4fb",
        "outputId": "10103cbc-35cb-4e4d-cd79-6bf33598176c"
      },
      "outputs": [
        {
          "data": {
            "text/plain": [
              "True"
            ]
          },
          "execution_count": 13,
          "metadata": {},
          "output_type": "execute_result"
        }
      ],
      "source": [
        "7 != \"7\""
      ]
    },
    {
      "cell_type": "code",
      "execution_count": null,
      "id": "93067272",
      "metadata": {
        "id": "93067272",
        "outputId": "ad1cdad7-54be-428e-fe08-d9e9258ca98e"
      },
      "outputs": [
        {
          "data": {
            "text/plain": [
              "False"
            ]
          },
          "execution_count": 14,
          "metadata": {},
          "output_type": "execute_result"
        }
      ],
      "source": [
        "a = 77 # assignment\n",
        "\n",
        "a <= 5 # comparison"
      ]
    },
    {
      "cell_type": "markdown",
      "id": "79b52091",
      "metadata": {
        "id": "79b52091"
      },
      "source": [
        "## Mixing Boolean and Comparison Ops."
      ]
    },
    {
      "cell_type": "code",
      "execution_count": null,
      "id": "288fe62f",
      "metadata": {
        "id": "288fe62f",
        "outputId": "c164e29c-c059-4730-955a-b5326bc8f0aa"
      },
      "outputs": [
        {
          "data": {
            "text/plain": [
              "True"
            ]
          },
          "execution_count": 17,
          "metadata": {},
          "output_type": "execute_result"
        }
      ],
      "source": [
        "(4 < 5) and (5 < 6)"
      ]
    },
    {
      "cell_type": "code",
      "execution_count": null,
      "id": "a6371db3",
      "metadata": {
        "id": "a6371db3",
        "outputId": "b7bf7104-0e62-4eec-d4bb-1542cd63c1a1"
      },
      "outputs": [
        {
          "data": {
            "text/plain": [
              "True"
            ]
          },
          "execution_count": 19,
          "metadata": {},
          "output_type": "execute_result"
        }
      ],
      "source": [
        "a = 2\n",
        "1 + 1 == a and not 3-1 == a+1 and 2*2 == 2+2"
      ]
    },
    {
      "cell_type": "markdown",
      "id": "7d3e9cfc",
      "metadata": {
        "id": "7d3e9cfc"
      },
      "source": [
        "## Boolean Op."
      ]
    },
    {
      "cell_type": "code",
      "execution_count": null,
      "id": "44c2a896",
      "metadata": {
        "id": "44c2a896",
        "outputId": "01ac0e19-a16c-43e2-effd-0ea8eca5248d"
      },
      "outputs": [
        {
          "data": {
            "text/plain": [
              "False"
            ]
          },
          "execution_count": 15,
          "metadata": {},
          "output_type": "execute_result"
        }
      ],
      "source": [
        "True and False"
      ]
    },
    {
      "cell_type": "markdown",
      "id": "0c839242",
      "metadata": {
        "id": "0c839242"
      },
      "source": [
        "## Truthiness\n",
        "\n",
        "`bool` type이 아닌데도 `True` 또는 `False`로 판정되는 경우\n"
      ]
    },
    {
      "cell_type": "code",
      "execution_count": null,
      "id": "c8676189",
      "metadata": {
        "id": "c8676189",
        "outputId": "5a7c9037-41d3-4824-db9f-bc3da8a042e0"
      },
      "outputs": [
        {
          "name": "stdout",
          "output_type": "stream",
          "text": [
            "None is falsy.\n"
          ]
        }
      ],
      "source": [
        "a = None\n",
        "if a:\n",
        "    print(f\"{a} is truthy.\")\n",
        "else:\n",
        "    print(f\"{a} is falsy.\")"
      ]
    },
    {
      "cell_type": "code",
      "execution_count": null,
      "id": "513942ca",
      "metadata": {
        "id": "513942ca",
        "outputId": "90df4ab3-9b63-4284-eda3-a78c64800e74"
      },
      "outputs": [
        {
          "name": "stdout",
          "output_type": "stream",
          "text": [
            "0 is falsy.\n"
          ]
        }
      ],
      "source": [
        "a = 0\n",
        "if a:\n",
        "    print(f\"{a} is truthy.\")\n",
        "else:\n",
        "    print(f\"{a} is falsy.\")"
      ]
    },
    {
      "cell_type": "code",
      "execution_count": null,
      "id": "7cfb205a",
      "metadata": {
        "id": "7cfb205a",
        "outputId": "eb33f30c-29cb-4953-b7a4-d9c2e9411f66"
      },
      "outputs": [
        {
          "name": "stdout",
          "output_type": "stream",
          "text": [
            "0.0 is falsy.\n"
          ]
        }
      ],
      "source": [
        "a = 0.0\n",
        "if a:\n",
        "    print(f\"{a} is truthy.\")\n",
        "else:\n",
        "    print(f\"{a} is falsy.\")"
      ]
    },
    {
      "cell_type": "code",
      "execution_count": null,
      "id": "60241d94",
      "metadata": {
        "id": "60241d94",
        "outputId": "407a4082-eb41-4a32-e8db-ccac344a4230"
      },
      "outputs": [
        {
          "name": "stdout",
          "output_type": "stream",
          "text": [
            " is falsy.\n"
          ]
        }
      ],
      "source": [
        "a = \"\"\n",
        "if a:\n",
        "    print(f\"{a} is truthy.\")\n",
        "else:\n",
        "    print(f\"{a} is falsy.\")"
      ]
    },
    {
      "cell_type": "code",
      "execution_count": null,
      "id": "d292bf03",
      "metadata": {
        "id": "d292bf03",
        "outputId": "faf8a3c0-cd36-482a-abbe-8354b5105eb8"
      },
      "outputs": [
        {
          "name": "stdout",
          "output_type": "stream",
          "text": [
            "[] is falsy.\n"
          ]
        }
      ],
      "source": [
        "a = []\n",
        "if a:\n",
        "    print(f\"{a} is truthy.\")\n",
        "else:\n",
        "    print(f\"{a} is falsy.\")"
      ]
    },
    {
      "cell_type": "code",
      "execution_count": null,
      "id": "9357ceb8",
      "metadata": {
        "id": "9357ceb8",
        "outputId": "172191a2-527a-405e-ba70-26084984c106"
      },
      "outputs": [
        {
          "name": "stdout",
          "output_type": "stream",
          "text": [
            "set() is falsy.\n"
          ]
        }
      ],
      "source": [
        "a = set()\n",
        "if a:\n",
        "    print(f\"{a} is truthy.\")\n",
        "else:\n",
        "    print(f\"{a} is falsy.\")"
      ]
    },
    {
      "cell_type": "code",
      "execution_count": null,
      "id": "1e34a101",
      "metadata": {
        "id": "1e34a101",
        "outputId": "17edb7a9-1179-4724-f118-b7854697fc98"
      },
      "outputs": [
        {
          "name": "stdout",
          "output_type": "stream",
          "text": [
            "{} is falsy.\n"
          ]
        }
      ],
      "source": [
        "a = {}\n",
        "if a:\n",
        "    print(f\"{a} is truthy.\")\n",
        "else:\n",
        "    print(f\"{a} is falsy.\")"
      ]
    },
    {
      "cell_type": "markdown",
      "id": "424c3d85",
      "metadata": {
        "id": "424c3d85"
      },
      "source": [
        "## Variable Name : Naming Convention\n",
        "\n",
        "참고: [Naming Rule](https://dsaint31.tistory.com/517#2.%20Naming%20Rules%20(convention%EC%9D%B4%20%EC%95%84%EB%8B%98!)-1-2)\n",
        "\n",
        "참고: [Naming Convention](https://ds31x.blogspot.com/2023/07/etc-naming-convention.html)"
      ]
    },
    {
      "cell_type": "code",
      "execution_count": null,
      "id": "3b1634e4",
      "metadata": {
        "id": "3b1634e4",
        "outputId": "d6271525-5667-4233-e4a6-40c1e9b047d0"
      },
      "outputs": [
        {
          "name": "stdout",
          "output_type": "stream",
          "text": [
            "1\n"
          ]
        }
      ],
      "source": [
        "한글 = 1\n",
        "print(한글)"
      ]
    },
    {
      "cell_type": "code",
      "execution_count": null,
      "id": "4f000711",
      "metadata": {
        "id": "4f000711"
      },
      "outputs": [],
      "source": [
        "my_variable = 11 # snake notation"
      ]
    },
    {
      "cell_type": "code",
      "execution_count": null,
      "id": "0f8b0aed",
      "metadata": {
        "id": "0f8b0aed"
      },
      "outputs": [],
      "source": [
        "myVariable = 12 # Camel notation"
      ]
    },
    {
      "cell_type": "code",
      "execution_count": null,
      "id": "b7b52ee7",
      "metadata": {
        "id": "b7b52ee7"
      },
      "outputs": [],
      "source": [
        "MyVariable = 13 # Pascal Notation"
      ]
    },
    {
      "cell_type": "code",
      "execution_count": null,
      "id": "3d3da4f4",
      "metadata": {
        "id": "3d3da4f4"
      },
      "outputs": [],
      "source": [
        "3invalid_name = 3"
      ]
    },
    {
      "cell_type": "code",
      "execution_count": null,
      "id": "d5397f5c",
      "metadata": {
        "id": "d5397f5c"
      },
      "outputs": [],
      "source": [
        "invalid-name = 3"
      ]
    },
    {
      "cell_type": "code",
      "execution_count": null,
      "id": "e5d635b0",
      "metadata": {
        "id": "e5d635b0"
      },
      "outputs": [],
      "source": [
        "invalid name = 3"
      ]
    },
    {
      "cell_type": "code",
      "execution_count": null,
      "id": "915367d8",
      "metadata": {
        "id": "915367d8"
      },
      "outputs": [],
      "source": [
        "123 = 3"
      ]
    },
    {
      "cell_type": "code",
      "execution_count": null,
      "id": "0c4b86b0",
      "metadata": {
        "id": "0c4b86b0"
      },
      "outputs": [],
      "source": [
        "invalid?varible = 3"
      ]
    },
    {
      "cell_type": "markdown",
      "id": "ac2be094",
      "metadata": {
        "id": "ac2be094"
      },
      "source": [
        "## Test"
      ]
    },
    {
      "cell_type": "code",
      "execution_count": null,
      "id": "bd5d776e",
      "metadata": {
        "id": "bd5d776e"
      },
      "outputs": [],
      "source": [
        "print(\"Hello, Python!\")\n",
        "print(\"What is your name?\")\n",
        "my_name = input(\">>>\") # vscode에선 상단에 입력을 받는 창이 뜸. 주의할 것.\n",
        "print(\"반가워,\", my_name)\n",
        "print(\"너의 이름의 길이는\", len(my_name), \"이야.\")\n",
        "print(\"What is your age?\")\n",
        "my_age = input(\">>>\")\n",
        "print(\"작년엔 당신의 나이가 \"+ str(int(my_age)-1) +\"세 였군요.\")"
      ]
    },
    {
      "cell_type": "markdown",
      "id": "6c9b5305",
      "metadata": {
        "id": "6c9b5305"
      },
      "source": [
        "참고: [print함수](https://ds31x.tistory.com/410)"
      ]
    },
    {
      "cell_type": "code",
      "execution_count": null,
      "id": "63b18eea",
      "metadata": {
        "id": "63b18eea"
      },
      "outputs": [],
      "source": [
        "print(\"Hello, Python!\")"
      ]
    },
    {
      "cell_type": "code",
      "execution_count": null,
      "id": "9d4ce938",
      "metadata": {
        "id": "9d4ce938"
      },
      "outputs": [],
      "source": [
        "v = len(\"1234\")\n",
        "v"
      ]
    },
    {
      "cell_type": "code",
      "execution_count": null,
      "id": "6c9fdc01",
      "metadata": {
        "id": "6c9fdc01"
      },
      "outputs": [],
      "source": [
        "str(11)"
      ]
    },
    {
      "cell_type": "code",
      "execution_count": null,
      "id": "9996095c",
      "metadata": {
        "id": "9996095c"
      },
      "outputs": [],
      "source": [
        "11 == '11'"
      ]
    },
    {
      "cell_type": "code",
      "execution_count": null,
      "id": "9ddd08ab",
      "metadata": {
        "id": "9ddd08ab"
      },
      "outputs": [],
      "source": [
        "float(11)"
      ]
    },
    {
      "cell_type": "markdown",
      "id": "17326990",
      "metadata": {
        "id": "17326990"
      },
      "source": [
        "### type()\n",
        "\n",
        "`type`형의 객체를 반환하는 생성자 함수.\n",
        "\n",
        "Python의 객체의 type을 추상화하고 있음.\n",
        "\n",
        "참고: [객체의 정보 확인](https://ds31x.tistory.com/404)"
      ]
    },
    {
      "cell_type": "code",
      "execution_count": null,
      "id": "b4ac9378",
      "metadata": {
        "id": "b4ac9378"
      },
      "outputs": [],
      "source": [
        "t = type(6)\n",
        "t"
      ]
    },
    {
      "cell_type": "code",
      "execution_count": null,
      "id": "434d4199",
      "metadata": {
        "id": "434d4199"
      },
      "outputs": [],
      "source": [
        "type(t) # type자체도 객체임."
      ]
    },
    {
      "cell_type": "markdown",
      "id": "531d206e",
      "metadata": {
        "id": "531d206e"
      },
      "source": [
        "### banker's rounding\n",
        "\n",
        "참고: [banker's rounding](https://ds31x.tistory.com/513)"
      ]
    },
    {
      "cell_type": "code",
      "execution_count": null,
      "id": "e5fcd277",
      "metadata": {
        "id": "e5fcd277",
        "outputId": "6a9acc34-148e-4c77-e30c-104003674ef9"
      },
      "outputs": [
        {
          "data": {
            "text/plain": [
              "0"
            ]
          },
          "execution_count": 3,
          "metadata": {},
          "output_type": "execute_result"
        }
      ],
      "source": [
        "round(.5)"
      ]
    },
    {
      "cell_type": "code",
      "execution_count": null,
      "id": "881c7cfb",
      "metadata": {
        "id": "881c7cfb",
        "outputId": "6592506f-2de8-4693-cdca-fb1f86a78107"
      },
      "outputs": [
        {
          "data": {
            "text/plain": [
              "0"
            ]
          },
          "execution_count": 4,
          "metadata": {},
          "output_type": "execute_result"
        }
      ],
      "source": [
        "round(-.5)"
      ]
    },
    {
      "cell_type": "code",
      "execution_count": null,
      "id": "bf65c3a6",
      "metadata": {
        "id": "bf65c3a6"
      },
      "outputs": [],
      "source": [
        "round(1.5)"
      ]
    },
    {
      "cell_type": "code",
      "execution_count": null,
      "id": "15b09713",
      "metadata": {
        "id": "15b09713"
      },
      "outputs": [],
      "source": [
        "round(2.5)"
      ]
    },
    {
      "cell_type": "code",
      "execution_count": null,
      "id": "bb52c363",
      "metadata": {
        "id": "bb52c363",
        "outputId": "eb83cf6d-40ed-4c90-eb27-bedb439c0a6d"
      },
      "outputs": [
        {
          "data": {
            "text/plain": [
              "3"
            ]
          },
          "execution_count": 2,
          "metadata": {},
          "output_type": "execute_result"
        }
      ],
      "source": [
        "round(2.7)"
      ]
    },
    {
      "cell_type": "code",
      "execution_count": null,
      "id": "545ebaa4",
      "metadata": {
        "id": "545ebaa4"
      },
      "outputs": [],
      "source": [
        "round(3.5)"
      ]
    },
    {
      "cell_type": "code",
      "execution_count": null,
      "id": "b0baf58b",
      "metadata": {
        "id": "b0baf58b"
      },
      "outputs": [],
      "source": [
        "round(4.5)"
      ]
    },
    {
      "cell_type": "code",
      "execution_count": null,
      "id": "8fadcb13",
      "metadata": {
        "id": "8fadcb13"
      },
      "outputs": [],
      "source": [
        "round(1.25,1)"
      ]
    },
    {
      "cell_type": "code",
      "execution_count": null,
      "id": "5ea8b0fb",
      "metadata": {
        "id": "5ea8b0fb"
      },
      "outputs": [],
      "source": [
        "round(1.35,1)"
      ]
    },
    {
      "cell_type": "code",
      "execution_count": null,
      "id": "ac20ab62",
      "metadata": {
        "id": "ac20ab62",
        "outputId": "9f5ec8dc-7177-45c1-f29b-75be854b7b87"
      },
      "outputs": [
        {
          "name": "stdout",
          "output_type": "stream",
          "text": [
            "ROUND_HALF_UP  :  ['-3', '-3', '-2', '-2', '-2', '-1', '-1', '-1', ' 0', ' 0', ' 1', ' 1', ' 1', ' 2', ' 2', ' 2', ' 3', ' 3']\n",
            "ROUND_HALF_DOWN:  ['-3', '-2', '-2', '-2', '-1', '-1', '-1', ' 0', ' 0', ' 0', ' 0', ' 1', ' 1', ' 1', ' 2', ' 2', ' 2', ' 3']\n",
            "ROUND_HALF_EVEN:  ['-3', '-2', '-2', '-2', '-2', '-1', '-1', ' 0', ' 0', ' 0', ' 0', ' 1', ' 1', ' 2', ' 2', ' 2', ' 2', ' 3']\n",
            "ROUND_UP       :  ['-3', '-3', '-3', '-2', '-2', '-2', '-1', '-1', '-1', ' 1', ' 1', ' 1', ' 2', ' 2', ' 2', ' 3', ' 3', ' 3']\n",
            "ROUND_DOWN     :  ['-2', '-2', '-2', '-1', '-1', '-1', ' 0', ' 0', ' 0', ' 0', ' 0', ' 0', ' 1', ' 1', ' 1', ' 2', ' 2', ' 2']\n"
          ]
        }
      ],
      "source": [
        "from decimal import Decimal, get_context\n",
        "\n",
        "values = ['-2.6', '-2.5', '-2.3', '-1.6','-1.5','-1.3', '-0.6','-0.5','-0.3','0.3','0.5','0.6','1.3','1.5','1.6', '2.3', '2.5', '2.6']\n",
        "modes = [\n",
        "    'ROUND_HALF_UP',     # half away from zero, C와 수학의 반올림\n",
        "    'ROUND_HALF_DOWN',\n",
        "    'ROUND_HALF_EVEN',   # half to even, Python 기본\n",
        "    'ROUND_UP',\n",
        "    'ROUND_DOWN',        # toward zero, Java Math.round\n",
        "]\n",
        "\n",
        "for mode in modes:\n",
        "    getcontext().rounding = mode\n",
        "    print(f\"{mode:15}: \", list(map(lambda x: f\"{x:2}\", [int(Decimal(v).quantize(Decimal('1'))) for v in values])))"
      ]
    },
    {
      "cell_type": "markdown",
      "id": "1394460e",
      "metadata": {
        "id": "1394460e"
      },
      "source": [
        "### abs\n",
        "\n",
        "absolute value"
      ]
    },
    {
      "cell_type": "code",
      "execution_count": null,
      "id": "8b079034",
      "metadata": {
        "id": "8b079034"
      },
      "outputs": [],
      "source": [
        "abs(-3.14)"
      ]
    }
  ],
  "metadata": {
    "colab": {
      "include_colab_link": true,
      "provenance": []
    },
    "kernelspec": {
      "display_name": "Univ_Pratice_Programming (3.13.7)",
      "language": "python",
      "name": "python3"
    },
    "language_info": {
      "codemirror_mode": {
        "name": "ipython",
        "version": 3
      },
      "file_extension": ".py",
      "mimetype": "text/x-python",
      "name": "python",
      "nbconvert_exporter": "python",
      "pygments_lexer": "ipython3",
      "version": "3.13.7"
    }
  },
  "nbformat": 4,
  "nbformat_minor": 5
}
