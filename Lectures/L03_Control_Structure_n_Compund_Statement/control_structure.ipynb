{
 "cells": [
  {
   "cell_type": "markdown",
   "id": "fc4ad5e7",
   "metadata": {},
   "source": [
    "# top\n"
   ]
  },
  {
   "cell_type": "code",
   "execution_count": 3,
   "id": "a489d053",
   "metadata": {},
   "outputs": [
    {
     "data": {
      "text/plain": [
       "True"
      ]
     },
     "execution_count": 3,
     "metadata": {},
     "output_type": "execute_result"
    }
   ],
   "source": [
    "True"
   ]
  },
  {
   "cell_type": "code",
   "execution_count": 4,
   "id": "31c991ec",
   "metadata": {},
   "outputs": [],
   "source": [
    "a = bool(True)"
   ]
  },
  {
   "cell_type": "code",
   "execution_count": 5,
   "id": "1ad13877",
   "metadata": {},
   "outputs": [
    {
     "data": {
      "text/plain": [
       "True"
      ]
     },
     "execution_count": 5,
     "metadata": {},
     "output_type": "execute_result"
    }
   ],
   "source": [
    "a"
   ]
  },
  {
   "cell_type": "code",
   "execution_count": 6,
   "id": "d4445741",
   "metadata": {},
   "outputs": [
    {
     "data": {
      "text/plain": [
       "False"
      ]
     },
     "execution_count": 6,
     "metadata": {},
     "output_type": "execute_result"
    }
   ],
   "source": [
    "temp = []\n",
    "bool(temp)"
   ]
  },
  {
   "cell_type": "code",
   "execution_count": 7,
   "id": "169542a7",
   "metadata": {},
   "outputs": [
    {
     "data": {
      "text/plain": [
       "False"
      ]
     },
     "execution_count": 7,
     "metadata": {},
     "output_type": "execute_result"
    }
   ],
   "source": [
    "tmp = list()\n",
    "type(type)\n",
    "bool(tmp)"
   ]
  },
  {
   "cell_type": "code",
   "execution_count": 8,
   "id": "8c0e021e",
   "metadata": {},
   "outputs": [
    {
     "name": "stdout",
     "output_type": "stream",
     "text": [
      "<class 'dict'>\n",
      "False\n"
     ]
    }
   ],
   "source": [
    "tmp = {}\n",
    "print(type(tmp))\n",
    "print(bool(tmp))"
   ]
  },
  {
   "cell_type": "code",
   "execution_count": 9,
   "id": "3802c8ea",
   "metadata": {},
   "outputs": [
    {
     "name": "stdout",
     "output_type": "stream",
     "text": [
      "type(tmp) = <class 'set'>\n",
      "bool(tmp) = False\n"
     ]
    },
    {
     "data": {
      "text/plain": [
       "set()"
      ]
     },
     "execution_count": 9,
     "metadata": {},
     "output_type": "execute_result"
    }
   ],
   "source": [
    "tmp = set()\n",
    "print(f\"{type(tmp) = }\")\n",
    "print(f\"{bool(tmp) = }\")\n",
    "tmp"
   ]
  },
  {
   "cell_type": "code",
   "execution_count": 10,
   "id": "33a172c9",
   "metadata": {},
   "outputs": [
    {
     "name": "stdout",
     "output_type": "stream",
     "text": [
      "test\n"
     ]
    },
    {
     "data": {
      "text/plain": [
       "False"
      ]
     },
     "execution_count": 10,
     "metadata": {},
     "output_type": "execute_result"
    }
   ],
   "source": [
    "bool(print(\"test\"))"
   ]
  },
  {
   "cell_type": "code",
   "execution_count": 11,
   "id": "dfa0558c",
   "metadata": {},
   "outputs": [
    {
     "data": {
      "text/plain": [
       "True"
      ]
     },
     "execution_count": 11,
     "metadata": {},
     "output_type": "execute_result"
    }
   ],
   "source": [
    "10 > 2"
   ]
  },
  {
   "cell_type": "code",
   "execution_count": 12,
   "id": "82e5446a",
   "metadata": {},
   "outputs": [
    {
     "data": {
      "text/plain": [
       "False"
      ]
     },
     "execution_count": 12,
     "metadata": {},
     "output_type": "execute_result"
    }
   ],
   "source": [
    "a = \"123a\"\n",
    "b = \"1234\"\n",
    "a < b"
   ]
  },
  {
   "cell_type": "code",
   "execution_count": 13,
   "id": "744df3c6",
   "metadata": {},
   "outputs": [
    {
     "name": "stdout",
     "output_type": "stream",
     "text": [
      "a == b = True\n",
      "a is b = False\n",
      "not a is b = True\n",
      "a is not b = True\n"
     ]
    }
   ],
   "source": [
    "a =1000\n",
    "b = 1000\n",
    "\n",
    "print(f\"{a == b = }\")\n",
    "print(f\"{a is b = }\")\n",
    "print(f\"{not a is b = }\")\n",
    "print(f\"{a is not b = }\")"
   ]
  },
  {
   "cell_type": "code",
   "execution_count": 14,
   "id": "162c4269",
   "metadata": {},
   "outputs": [
    {
     "name": "stdout",
     "output_type": "stream",
     "text": [
      "t0\n",
      "False\n",
      "t0\n",
      "t1\n",
      "False\n"
     ]
    }
   ],
   "source": [
    "def t0():\n",
    "\tprint(\"t0\")\n",
    "\treturn False\n",
    "\n",
    "def t1():\n",
    "\tprint(\"t1\")\n",
    "\treturn True\n",
    "\n",
    "print(t0() and t1())\n",
    "\n",
    "a = t0()\n",
    "b = t1()\n",
    "\n",
    "print(a and b)"
   ]
  },
  {
   "cell_type": "code",
   "execution_count": 15,
   "id": "37ed14a8",
   "metadata": {},
   "outputs": [
    {
     "data": {
      "text/plain": [
       "False"
      ]
     },
     "execution_count": 15,
     "metadata": {},
     "output_type": "execute_result"
    }
   ],
   "source": [
    "a= b = 0\n",
    "(a := 4+5) > 10 and (b:= 1+2) > 2"
   ]
  },
  {
   "cell_type": "code",
   "execution_count": 16,
   "id": "3b3a9471",
   "metadata": {},
   "outputs": [
    {
     "name": "stdout",
     "output_type": "stream",
     "text": [
      "당신은 미성년자입니다.\n"
     ]
    }
   ],
   "source": [
    "age = int(input(\"당신의 나이는? : \"))\n",
    "\n",
    "if age < 18 :\n",
    "\tprint('당신은 미성년자입니다.')\n",
    "elif age < 65 :\n",
    "\tprint('당신은 성인입니다')\n",
    "elif age < 200 :\n",
    "\tprint('당신은 노인입니다')\n",
    "else :\n",
    "\tprint('...')"
   ]
  },
  {
   "cell_type": "code",
   "execution_count": 19,
   "id": "b3ea7c88",
   "metadata": {},
   "outputs": [
    {
     "name": "stdout",
     "output_type": "stream",
     "text": [
      "Writing shell_module.py\n"
     ]
    }
   ],
   "source": [
    "%%writefile shell_module.py\n",
    "\n",
    "age = int(input('How old are you'))\n",
    "\n",
    "if age >= 200:\n",
    "\tprint(\"You are...\")\n",
    "else :\n",
    "\tif age < 18 :\n",
    "\t\tprint(\"You're a minor\")\n",
    "\telif age < 65 :\n",
    "\t\tprint(\"You're an adult\")\n",
    "\telse :\n",
    "\t\tprint(\"You're a senior\")\n"
   ]
  },
  {
   "cell_type": "code",
   "execution_count": null,
   "id": "5d046ebe",
   "metadata": {},
   "outputs": [],
   "source": []
  }
 ],
 "metadata": {
  "kernelspec": {
   "display_name": "Univ_Pratice_Programming (3.13.7)",
   "language": "python",
   "name": "python3"
  },
  "language_info": {
   "codemirror_mode": {
    "name": "ipython",
    "version": 3
   },
   "file_extension": ".py",
   "mimetype": "text/x-python",
   "name": "python",
   "nbconvert_exporter": "python",
   "pygments_lexer": "ipython3",
   "version": "3.13.7"
  }
 },
 "nbformat": 4,
 "nbformat_minor": 5
}
